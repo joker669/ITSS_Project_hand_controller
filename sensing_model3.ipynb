{
 "cells": [
  {
   "cell_type": "code",
   "execution_count": 1,
   "metadata": {
    "executionInfo": {
     "elapsed": 3883,
     "status": "ok",
     "timestamp": 1634916390146,
     "user": {
      "displayName": "mao yueyue",
      "photoUrl": "https://lh3.googleusercontent.com/a/default-user=s64",
      "userId": "11996306090384496990"
     },
     "user_tz": -480
    },
    "id": "Jx47L58ZoD4E"
   },
   "outputs": [],
   "source": [
    "from tensorflow.keras.preprocessing.image import ImageDataGenerator\n",
    "from tensorflow.keras.layers import AveragePooling2D\n",
    "from tensorflow.keras.applications import ResNet50\n",
    "from tensorflow.keras.layers import Dropout\n",
    "from tensorflow.keras.layers import Flatten\n",
    "from tensorflow.keras.layers import Dense\n",
    "from tensorflow.keras.layers import Input\n",
    "from tensorflow.keras.models import Model\n",
    "from tensorflow.keras.optimizers import SGD\n",
    "from tensorflow.keras.callbacks import ModelCheckpoint,CSVLogger\n",
    "from sklearn.preprocessing import LabelBinarizer\n",
    "from sklearn.model_selection import train_test_split\n",
    "from imutils import paths\n",
    "import matplotlib.pyplot as plt\n",
    "import numpy as np\n",
    "import pickle\n",
    "import cv2\n",
    "import os\n",
    "import sklearn.metrics as metrics"
   ]
  },
  {
   "cell_type": "code",
   "execution_count": 2,
   "metadata": {
    "colab": {
     "base_uri": "https://localhost:8080/"
    },
    "executionInfo": {
     "elapsed": 28542,
     "status": "ok",
     "timestamp": 1634916423195,
     "user": {
      "displayName": "mao yueyue",
      "photoUrl": "https://lh3.googleusercontent.com/a/default-user=s64",
      "userId": "11996306090384496990"
     },
     "user_tz": -480
    },
    "id": "DS9sMFCcp0Nr",
    "outputId": "2a93241b-877b-41cf-dc8f-fd1529ce041b"
   },
   "outputs": [
    {
     "name": "stdout",
     "output_type": "stream",
     "text": [
      "Mounted at /content/gdrive\n"
     ]
    }
   ],
   "source": [
    "from google.colab import drive\n",
    "drive.mount('/content/gdrive', force_remount=True)\n",
    "import glob\n",
    "import random\n",
    "import os"
   ]
  },
  {
   "cell_type": "code",
   "execution_count": 3,
   "metadata": {
    "colab": {
     "base_uri": "https://localhost:8080/"
    },
    "executionInfo": {
     "elapsed": 618,
     "status": "ok",
     "timestamp": 1634916427479,
     "user": {
      "displayName": "mao yueyue",
      "photoUrl": "https://lh3.googleusercontent.com/a/default-user=s64",
      "userId": "11996306090384496990"
     },
     "user_tz": -480
    },
    "id": "kLVb9tJop3GT",
    "outputId": "75be44b5-9e28-40e5-9708-5e9a35e911ff"
   },
   "outputs": [
    {
     "name": "stdout",
     "output_type": "stream",
     "text": [
      "/content/gdrive/.shortcut-targets-by-id/1tIm6FE4PVKLMw2Hcrr_Tfq1Ex0vrfmgo/sensing_project/dataset\n"
     ]
    }
   ],
   "source": [
    "os.chdir(\"/content/gdrive/MyDrive/sensing_project/dataset\")\n",
    "print(os.getcwd())"
   ]
  },
  {
   "cell_type": "code",
   "execution_count": 4,
   "metadata": {
    "colab": {
     "base_uri": "https://localhost:8080/"
    },
    "executionInfo": {
     "elapsed": 2433,
     "status": "ok",
     "timestamp": 1634916434652,
     "user": {
      "displayName": "mao yueyue",
      "photoUrl": "https://lh3.googleusercontent.com/a/default-user=s64",
      "userId": "11996306090384496990"
     },
     "user_tz": -480
    },
    "id": "IYUmxFnAp3sE",
    "outputId": "f4751278-8e8b-40f7-f65b-1b9b099d5c5a"
   },
   "outputs": [
    {
     "name": "stdout",
     "output_type": "stream",
     "text": [
      "540\n",
      "['one/one_044.jpg', 'one/one_030.jpg', 'one/one_039.jpg', 'one/one_033.jpg', 'one/one_031.jpg', 'one/one_040.jpg', 'one/one_038.jpg', 'one/one_035.jpg', 'one/one_037.jpg', 'one/one_032.jpg', 'one/one_034.jpg', 'one/one_036.jpg', 'one/one_041.jpg', 'one/one_042.jpg', 'one/one_043.jpg', 'one/one_029.jpg', 'one/one_015.jpg', 'one/one_025.jpg', 'one/one_019.jpg', 'one/one_020.jpg', 'one/one_022.jpg', 'one/one_026.jpg', 'one/one_027.jpg', 'one/one_023.jpg', 'one/one_024.jpg', 'one/one_021.jpg', 'one/one_018.jpg', 'one/one_017.jpg', 'one/one_028.jpg', 'one/one_016.jpg', 'one/one_000.JPG', 'one/one_001.JPG', 'one/one_002.JPG', 'one/one_003.JPG', 'one/one_004.JPG', 'one/one_005.JPG', 'one/one_006.JPG', 'one/one_007.JPG', 'one/one_008.JPG', 'one/one_009.JPG', 'one/one_010.JPG', 'one/one_011.JPG', 'one/one_012.JPG', 'one/one_013.JPG', 'one/one_014.JPG', 'one/one_050.JPG', 'one/one_055.JPG', 'one/one_048.JPG', 'one/one_046.JPG', 'one/one_045.JPG', 'one/one_058.JPG', 'one/one_059.JPG', 'one/one_057.JPG', 'one/one_056.JPG', 'one/one_053.JPG', 'one/one_049.JPG', 'one/one_052.JPG', 'one/one_054.JPG', 'one/one_047.JPG', 'one/one_051.JPG', 'thumbup/thumbup_39.jpg', 'thumbup/thumbup_31.jpg', 'thumbup/thumbup_41.jpg', 'thumbup/thumbup_36.jpg', 'thumbup/thumbup_30.jpg', 'thumbup/thumbup_34.jpg', 'thumbup/thumbup_42.jpg', 'thumbup/thumbup_38.jpg', 'thumbup/thumbup_40.jpg', 'thumbup/thumbup_32.jpg', 'thumbup/thumbup_33.jpg', 'thumbup/thumbup_37.jpg', 'thumbup/thumbup_44.jpg', 'thumbup/thumbup_35.jpg', 'thumbup/thumbup_43.jpg', 'thumbup/thumbup_000.JPG', 'thumbup/thumbup_001.JPG', 'thumbup/thumbup_002.JPG', 'thumbup/thumbup_003.JPG', 'thumbup/thumbup_004.JPG', 'thumbup/thumbup_005.JPG', 'thumbup/thumbup_006.JPG', 'thumbup/thumbup_007.JPG', 'thumbup/thumbup_008.JPG', 'thumbup/thumbup_009.JPG', 'thumbup/thumbup_010.JPG', 'thumbup/thumbup_011.JPG', 'thumbup/thumbup_012.JPG', 'thumbup/thumbup_013.JPG', 'thumbup/thumbup_014.JPG', 'thumbup/thumbup_023.jpg', 'thumbup/thumbup_022.jpg', 'thumbup/thumbup_027.jpg', 'thumbup/thumbup_019.jpg', 'thumbup/thumbup_016.jpg', 'thumbup/thumbup_024.jpg', 'thumbup/thumbup_025.jpg', 'thumbup/thumbup_018.jpg', 'thumbup/thumbup_026.jpg', 'thumbup/thumbup_029.jpg', 'thumbup/thumbup_021.jpg', 'thumbup/thumbup_015.jpg', 'thumbup/thumbup_020.jpg', 'thumbup/thumbup_017.jpg', 'thumbup/thumbup_028.jpg', 'thumbup/thumbup_051.JPG', 'thumbup/thumbup_055.JPG', 'thumbup/thumbup_052.JPG', 'thumbup/thumbup_045.JPG', 'thumbup/thumbup_056.JPG', 'thumbup/thumbup_049.JPG', 'thumbup/thumbup_047.JPG', 'thumbup/thumbup_053.JPG', 'thumbup/thumbup_050.JPG', 'thumbup/thumbup_058.JPG', 'thumbup/thumbup_054.JPG', 'thumbup/thumbup_059.JPG', 'thumbup/thumbup_046.JPG', 'thumbup/thumbup_057.JPG', 'thumbup/thumbup_048.JPG', 'thumbdown/thumbdown_43.jpg', 'thumbdown/thumbdown_42.jpg', 'thumbdown/thumbdown_38.jpg', 'thumbdown/thumbdown_40.jpg', 'thumbdown/thumbdown_37.jpg', 'thumbdown/thumbdown_36.jpg', 'thumbdown/thumbdown_34.jpg', 'thumbdown/thumbdown_41.jpg', 'thumbdown/thumbdown_32.jpg', 'thumbdown/thumbdown_39.jpg', 'thumbdown/thumbdown_35.jpg', 'thumbdown/thumbdown_30.jpg', 'thumbdown/thumbdown_33.jpg', 'thumbdown/thumbdown_31.jpg', 'thumbdown/thumbdown_44.jpg', 'thumbdown/thumbdown_000.JPG', 'thumbdown/thumbdown_001.JPG', 'thumbdown/thumbdown_002.JPG', 'thumbdown/thumbdown_003.JPG', 'thumbdown/thumbdown_004.JPG', 'thumbdown/thumbdown_005.JPG', 'thumbdown/thumbdown_006.JPG', 'thumbdown/thumbdown_007.JPG', 'thumbdown/thumbdown_008.JPG', 'thumbdown/thumbdown_009.JPG', 'thumbdown/thumbdown_010.JPG', 'thumbdown/thumbdown_011.JPG', 'thumbdown/thumbdown_012.JPG', 'thumbdown/thumbdown_013.JPG', 'thumbdown/thumbdown_014.JPG', 'thumbdown/thumbdown_015.jpg', 'thumbdown/thumbdown_016.jpg', 'thumbdown/thumbdown_017.jpg', 'thumbdown/thumbdown_018.jpg', 'thumbdown/thumbdown_019.jpg', 'thumbdown/thumbdown_020.jpg', 'thumbdown/thumbdown_021.jpg', 'thumbdown/thumbdown_022.jpg', 'thumbdown/thumbdown_023.jpg', 'thumbdown/thumbdown_024.jpg', 'thumbdown/thumbdown_025.jpg', 'thumbdown/thumbdown_026.jpg', 'thumbdown/thumbdown_027.jpg', 'thumbdown/thumbdown_028.jpg', 'thumbdown/thumbdown_029.jpg', 'thumbdown/thumbdown_045.JPG', 'thumbdown/thumbdown_059.JPG', 'thumbdown/thumbdown_058.JPG', 'thumbdown/thumbdown_057.JPG', 'thumbdown/thumbdown_055.JPG', 'thumbdown/thumbdown_056.JPG', 'thumbdown/thumbdown_054.JPG', 'thumbdown/thumbdown_053.JPG', 'thumbdown/thumbdown_052.JPG', 'thumbdown/thumbdown_051.JPG', 'thumbdown/thumbdown_050.JPG', 'thumbdown/thumbdown_049.JPG', 'thumbdown/thumbdown_048.JPG', 'thumbdown/thumbdown_047.JPG', 'thumbdown/thumbdown_046.JPG', 'thumbright/thumbright_44.jpg', 'thumbright/thumbright_30.jpg', 'thumbright/thumbright_32.jpg', 'thumbright/thumbright_33.jpg', 'thumbright/thumbright_36.jpg', 'thumbright/thumbright_31.jpg', 'thumbright/thumbright_42.jpg', 'thumbright/thumbright_38.jpg', 'thumbright/thumbright_41.jpg', 'thumbright/thumbright_34.jpg', 'thumbright/thumbright_39.jpg', 'thumbright/thumbright_35.jpg', 'thumbright/thumbright_37.jpg', 'thumbright/thumbright_43.jpg', 'thumbright/thumbright_40.jpg', 'thumbright/thumbright_000.JPG', 'thumbright/thumbright_001.JPG', 'thumbright/thumbright_002.JPG', 'thumbright/thumbright_003.JPG', 'thumbright/thumbright_004.JPG', 'thumbright/thumbright_005.JPG', 'thumbright/thumbright_006.JPG', 'thumbright/thumbright_007.JPG', 'thumbright/thumbright_008.JPG', 'thumbright/thumbright_009.JPG', 'thumbright/thumbright_010.JPG', 'thumbright/thumbright_011.JPG', 'thumbright/thumbright_012.JPG', 'thumbright/thumbright_013.JPG', 'thumbright/thumbright_014.JPG', 'thumbright/thumbright_015.jpg', 'thumbright/thumbright_016.jpg', 'thumbright/thumbright_017.jpg', 'thumbright/thumbright_018.jpg', 'thumbright/thumbright_019.jpg', 'thumbright/thumbright_020.jpg', 'thumbright/thumbright_021.jpg', 'thumbright/thumbright_022.jpg', 'thumbright/thumbright_023.jpg', 'thumbright/thumbright_024.jpg', 'thumbright/thumbright_025.jpg', 'thumbright/thumbright_026.jpg', 'thumbright/thumbright_027.jpg', 'thumbright/thumbright_028.jpg', 'thumbright/thumbright_029.jpg', 'thumbright/thumbright_045.JPG', 'thumbright/thumbright_046.JPG', 'thumbright/thumbright_047.JPG', 'thumbright/thumbright_048.JPG', 'thumbright/thumbright_049.JPG', 'thumbright/thumbright_050.JPG', 'thumbright/thumbright_053.JPG', 'thumbright/thumbright_051.JPG', 'thumbright/thumbright_056.JPG', 'thumbright/thumbright_052.JPG', 'thumbright/thumbright_054.JPG', 'thumbright/thumbright_055.JPG', 'thumbright/thumbright_057.JPG', 'thumbright/thumbright_059.JPG', 'thumbright/thumbright_058.JPG', 'thumbleft/thumbleft_41.jpg', 'thumbleft/thumbleft_39.jpg', 'thumbleft/thumbleft_42.jpg', 'thumbleft/thumbleft_44.jpg', 'thumbleft/thumbleft_43.jpg', 'thumbleft/thumbleft_40.jpg', 'thumbleft/thumbleft_38.jpg', 'thumbleft/thumbleft_32.jpg', 'thumbleft/thumbleft_37.jpg', 'thumbleft/thumbleft_34.jpg', 'thumbleft/thumbleft_36.jpg', 'thumbleft/thumbleft_35.jpg', 'thumbleft/thumbleft_31.jpg', 'thumbleft/thumbleft_33.jpg', 'thumbleft/thumbleft_30.jpg', 'thumbleft/thumbleft_000.JPG', 'thumbleft/thumbleft_001.JPG', 'thumbleft/thumbleft_002.JPG', 'thumbleft/thumbleft_003.JPG', 'thumbleft/thumbleft_004.JPG', 'thumbleft/thumbleft_005.JPG', 'thumbleft/thumbleft_006.JPG', 'thumbleft/thumbleft_007.JPG', 'thumbleft/thumbleft_008.JPG', 'thumbleft/thumbleft_009.JPG', 'thumbleft/thumbleft_010.JPG', 'thumbleft/thumbleft_011.JPG', 'thumbleft/thumbleft_012.JPG', 'thumbleft/thumbleft_013.JPG', 'thumbleft/thumbleft_014.JPG', 'thumbleft/thumbleft_015.jpg', 'thumbleft/thumbleft_016.jpg', 'thumbleft/thumbleft_017.jpg', 'thumbleft/thumbleft_018.jpg', 'thumbleft/thumbleft_019.jpg', 'thumbleft/thumbleft_020.jpg', 'thumbleft/thumbleft_021.jpg', 'thumbleft/thumbleft_022.jpg', 'thumbleft/thumbleft_023.jpg', 'thumbleft/thumbleft_024.jpg', 'thumbleft/thumbleft_025.jpg', 'thumbleft/thumbleft_026.jpg', 'thumbleft/thumbleft_045.JPG', 'thumbleft/thumbleft_052.JPG', 'thumbleft/thumbleft_051.JPG', 'thumbleft/thumbleft_050.JPG', 'thumbleft/thumbleft_047.JPG', 'thumbleft/thumbleft_048.JPG', 'thumbleft/thumbleft_049.JPG', 'thumbleft/thumbleft_046.JPG', 'thumbleft/thumbleft_054.JPG', 'thumbleft/thumbleft_055.JPG', 'thumbleft/thumbleft_056.JPG', 'thumbleft/thumbleft_058.JPG', 'thumbleft/thumbleft_057.JPG', 'thumbleft/thumbleft_053.JPG', 'thumbleft/thumbleft_027.jpg', 'thumbleft/thumbleft_028.jpg', 'thumbleft/thumbleft_029.jpg', 'thumbleft/thumbleft_059.JPG', 'five/five_039.jpg', 'five/five_043.jpg', 'five/five_036.jpg', 'five/five_030.jpg', 'five/five_033.jpg', 'five/five_044.jpg', 'five/five_035.jpg', 'five/five_031.jpg', 'five/five_040.jpg', 'five/five_041.jpg', 'five/five_034.jpg', 'five/five_042.jpg', 'five/five_038.jpg', 'five/five_032.jpg', 'five/five_037.jpg', 'five/five_000.JPG', 'five/five_001.JPG', 'five/five_002.JPG', 'five/five_003.JPG', 'five/five_004.JPG', 'five/five_005.JPG', 'five/five_006.JPG', 'five/five_007.JPG', 'five/five_008.JPG', 'five/five_009.JPG', 'five/five_010.JPG', 'five/five_011.JPG', 'five/five_012.JPG', 'five/five_013.JPG', 'five/five_014.JPG', 'five/five_015.jpg', 'five/five_016.jpg', 'five/five_017.jpg', 'five/five_018.jpg', 'five/five_020.jpg', 'five/five_021.jpg', 'five/five_022.jpg', 'five/five_023.jpg', 'five/five_024.jpg', 'five/five_025.jpg', 'five/five_026.jpg', 'five/five_027.jpg', 'five/five_028.jpg', 'five/five_029.jpg', 'five/five_019.jpg', 'five/five_045.JPG', 'five/five_059.JPG', 'five/five_058.JPG', 'five/five_057.JPG', 'five/five_056.JPG', 'five/five_055.JPG', 'five/five_054.JPG', 'five/five_053.JPG', 'five/five_052.JPG', 'five/five_051.JPG', 'five/five_050.JPG', 'five/five_049.JPG', 'five/five_048.JPG', 'five/five_047.JPG', 'five/five_046.JPG', 'fist/fist_044.jpg', 'fist/fist_032.jpg', 'fist/fist_031.jpg', 'fist/fist_039.jpg', 'fist/fist_035.jpg', 'fist/fist_043.jpg', 'fist/fist_033.jpg', 'fist/fist_042.jpg', 'fist/fist_030.jpg', 'fist/fist_034.jpg', 'fist/fist_040.jpg', 'fist/fist_041.jpg', 'fist/fist_036.jpg', 'fist/fist_037.jpg', 'fist/fist_038.jpg', 'fist/fist_000.JPG', 'fist/fist_001.JPG', 'fist/fist_002.JPG', 'fist/fist_003.JPG', 'fist/fist_004.JPG', 'fist/fist_005.JPG', 'fist/fist_006.JPG', 'fist/fist_007.JPG', 'fist/fist_008.JPG', 'fist/fist_009.JPG', 'fist/fist_010.JPG', 'fist/fist_011.JPG', 'fist/fist_012.JPG', 'fist/fist_013.JPG', 'fist/fist_014.JPG', 'fist/fist_045.JPG', 'fist/fist_046.JPG', 'fist/fist_047.JPG', 'fist/fist_048.JPG', 'fist/fist_049.JPG', 'fist/fist_050.JPG', 'fist/fist_051.JPG', 'fist/fist_052.JPG', 'fist/fist_053.JPG', 'fist/fist_054.JPG', 'fist/fist_055.JPG', 'fist/fist_056.JPG', 'fist/fist_057.JPG', 'fist/fist_058.JPG', 'fist/fist_059.JPG', 'fist/fist_015.jpg', 'fist/fist_016.jpg', 'fist/fist_017.jpg', 'fist/fist_018.jpg', 'fist/fist_019.jpg', 'fist/fist_020.jpg', 'fist/fist_021.jpg', 'fist/fist_022.jpg', 'fist/fist_023.jpg', 'fist/fist_024.jpg', 'fist/fist_025.jpg', 'fist/fist_026.jpg', 'fist/fist_027.jpg', 'fist/fist_028.jpg', 'fist/fist_029.jpg', 'gunup/gunup_032.jpg', 'gunup/gunup_027.jpg', 'gunup/gunup_043.jpg', 'gunup/gunup_020.jpg', 'gunup/gunup_017.jpg', 'gunup/gunup_016.jpg', 'gunup/gunup_024.jpg', 'gunup/gunup_030.jpg', 'gunup/gunup_028.jpg', 'gunup/gunup_022.jpg', 'gunup/gunup_042.jpg', 'gunup/gunup_026.jpg', 'gunup/gunup_044.jpg', 'gunup/gunup_023.jpg', 'gunup/gunup_041.jpg', 'gunup/gunup_038.jpg', 'gunup/gunup_019.jpg', 'gunup/gunup_015.jpg', 'gunup/gunup_029.jpg', 'gunup/gunup_025.jpg', 'gunup/gunup_018.jpg', 'gunup/gunup_040.jpg', 'gunup/gunup_031.jpg', 'gunup/gunup_039.jpg', 'gunup/gunup_021.jpg', 'gunup/gunup_037.jpg', 'gunup/gunup_035.jpg', 'gunup/gunup_033.jpg', 'gunup/gunup_034.jpg', 'gunup/gunup_036.jpg', 'gunup/gunup_000.JPG', 'gunup/gunup_001.JPG', 'gunup/gunup_002.JPG', 'gunup/gunup_003.JPG', 'gunup/gunup_004.JPG', 'gunup/gunup_005.JPG', 'gunup/gunup_006.JPG', 'gunup/gunup_007.JPG', 'gunup/gunup_008.JPG', 'gunup/gunup_009.JPG', 'gunup/gunup_010.JPG', 'gunup/gunup_011.JPG', 'gunup/gunup_012.JPG', 'gunup/gunup_013.JPG', 'gunup/gunup_014.JPG', 'gunup/gunup_045.jpg', 'gunup/gunup_046.jpg', 'gunup/gunup_047.jpg', 'gunup/gunup_048.jpg', 'gunup/gunup_049.jpg', 'gunup/gunup_050.jpg', 'gunup/gunup_051.jpg', 'gunup/gunup_052.jpg', 'gunup/gunup_053.jpg', 'gunup/gunup_054.jpg', 'gunup/gunup_055.jpg', 'gunup/gunup_056.jpg', 'gunup/gunup_057.jpg', 'gunup/gunup_058.jpg', 'gunup/gunup_059.jpg', 'gundown/gundown_000.JPG', 'gundown/gundown_001.JPG', 'gundown/gundown_002.JPG', 'gundown/gundown_003.JPG', 'gundown/gundown_004.JPG', 'gundown/gundown_005.JPG', 'gundown/gundown_006.JPG', 'gundown/gundown_007.JPG', 'gundown/gundown_008.JPG', 'gundown/gundown_009.JPG', 'gundown/gundown_010.JPG', 'gundown/gundown_011.JPG', 'gundown/gundown_012.JPG', 'gundown/gundown_013.JPG', 'gundown/gundown_014.JPG', 'gundown/gundown_034.jpg', 'gundown/gundown_042.jpg', 'gundown/gundown_048.jpg', 'gundown/gundown_059.jpg', 'gundown/gundown_053.jpg', 'gundown/gundown_055.jpg', 'gundown/gundown_051.jpg', 'gundown/gundown_052.jpg', 'gundown/gundown_057.jpg', 'gundown/gundown_045.jpg', 'gundown/gundown_046.jpg', 'gundown/gundown_054.jpg', 'gundown/gundown_049.jpg', 'gundown/gundown_047.jpg', 'gundown/gundown_043.jpg', 'gundown/gundown_050.jpg', 'gundown/gundown_058.jpg', 'gundown/gundown_056.jpg', 'gundown/gundown_044.jpg', 'gundown/gundown_040.jpg', 'gundown/gundown_039.jpg', 'gundown/gundown_038.jpg', 'gundown/gundown_036.jpg', 'gundown/gundown_041.jpg', 'gundown/gundown_037.jpg', 'gundown/gundown_033.jpg', 'gundown/gundown_032.jpg', 'gundown/gundown_035.jpg', 'gundown/gundown_031.jpg', 'gundown/gundown_030.jpg', 'gundown/gundown_015.jpg', 'gundown/gundown_016.jpg', 'gundown/gundown_017.jpg', 'gundown/gundown_018.jpg', 'gundown/gundown_019.jpg', 'gundown/gundown_020.jpg', 'gundown/gundown_021.jpg', 'gundown/gundown_022.jpg', 'gundown/gundown_023.jpg', 'gundown/gundown_024.jpg', 'gundown/gundown_025.jpg', 'gundown/gundown_026.jpg', 'gundown/gundown_027.jpg', 'gundown/gundown_028.jpg', 'gundown/gundown_029.jpg']\n"
     ]
    }
   ],
   "source": [
    "img_filepaths = []\n",
    "img_filepaths=(glob.glob(\"*/*[JPG,jpg]\"))\n",
    "print(len(img_filepaths))\n",
    "print(img_filepaths)"
   ]
  },
  {
   "cell_type": "code",
   "execution_count": 5,
   "metadata": {
    "executionInfo": {
     "elapsed": 610,
     "status": "ok",
     "timestamp": 1634916438600,
     "user": {
      "displayName": "mao yueyue",
      "photoUrl": "https://lh3.googleusercontent.com/a/default-user=s64",
      "userId": "11996306090384496990"
     },
     "user_tz": -480
    },
    "id": "PlAGdABlp3yv"
   },
   "outputs": [],
   "source": [
    "random.shuffle(img_filepaths)"
   ]
  },
  {
   "cell_type": "code",
   "execution_count": 6,
   "metadata": {
    "executionInfo": {
     "elapsed": 493,
     "status": "ok",
     "timestamp": 1634916441447,
     "user": {
      "displayName": "mao yueyue",
      "photoUrl": "https://lh3.googleusercontent.com/a/default-user=s64",
      "userId": "11996306090384496990"
     },
     "user_tz": -480
    },
    "id": "tltQYniDp38q"
   },
   "outputs": [],
   "source": [
    "\n",
    "def preprocess(image):\n",
    "  image = cv2.resize(image,(224,224))\n",
    "  image = image.astype(\"float32\")\n",
    "  return image"
   ]
  },
  {
   "cell_type": "code",
   "execution_count": 7,
   "metadata": {
    "colab": {
     "base_uri": "https://localhost:8080/"
    },
    "executionInfo": {
     "elapsed": 278145,
     "status": "ok",
     "timestamp": 1634916729067,
     "user": {
      "displayName": "mao yueyue",
      "photoUrl": "https://lh3.googleusercontent.com/a/default-user=s64",
      "userId": "11996306090384496990"
     },
     "user_tz": -480
    },
    "id": "RQlwWqLhqEBc",
    "outputId": "5c0e38ff-18ea-4e59-909a-a14b98692f73"
   },
   "outputs": [
    {
     "name": "stdout",
     "output_type": "stream",
     "text": [
      "540\n",
      "(540, 224, 224, 3)\n"
     ]
    }
   ],
   "source": [
    "#get labels\n",
    "labels = []\n",
    "images = []\n",
    "for file in img_filepaths:\n",
    "  #处理图片\n",
    "  img = cv2.imread(file)\n",
    "  img = preprocess(img)\n",
    "  images.append(img)\n",
    "\n",
    "  #得到标签\n",
    "  label = file.split(\"_\")[0]\n",
    "  label = label.split(\"/\")[1]\n",
    "  labels.append(label)\n",
    "\n",
    "print(len(labels))\n",
    "print(np.array(images).shape)"
   ]
  },
  {
   "cell_type": "code",
   "execution_count": 8,
   "metadata": {
    "colab": {
     "base_uri": "https://localhost:8080/"
    },
    "executionInfo": {
     "elapsed": 331,
     "status": "ok",
     "timestamp": 1634916867365,
     "user": {
      "displayName": "mao yueyue",
      "photoUrl": "https://lh3.googleusercontent.com/a/default-user=s64",
      "userId": "11996306090384496990"
     },
     "user_tz": -480
    },
    "id": "2aiTfta1qEJo",
    "outputId": "83bb3f9e-eb40-4793-daba-c20df0e467ac"
   },
   "outputs": [
    {
     "name": "stdout",
     "output_type": "stream",
     "text": [
      "['fist' 'thumbleft' 'thumbright' 'gunup' 'thumbup' 'five' 'one'\n",
      " 'thumbdown' 'thumbleft' 'thumbdown' 'thumbright' 'thumbright' 'gunup'\n",
      " 'five' 'gundown' 'thumbdown' 'thumbleft' 'thumbup' 'thumbleft'\n",
      " 'thumbright' 'thumbup' 'thumbup' 'thumbdown' 'gundown' 'five' 'fist'\n",
      " 'five' 'thumbleft' 'thumbright' 'gunup' 'thumbup' 'five' 'five' 'gundown'\n",
      " 'thumbdown' 'one' 'thumbup' 'fist' 'thumbdown' 'thumbright' 'gundown'\n",
      " 'fist' 'five' 'one' 'thumbup' 'five' 'one' 'fist' 'one' 'gunup' 'thumbup'\n",
      " 'thumbdown' 'gunup' 'one' 'gunup' 'fist' 'fist' 'five' 'thumbup'\n",
      " 'thumbleft' 'one' 'thumbdown' 'thumbleft' 'fist' 'thumbup' 'gunup' 'five'\n",
      " 'thumbleft' 'thumbright' 'thumbup' 'one' 'gundown' 'thumbdown' 'thumbup'\n",
      " 'thumbleft' 'thumbdown' 'thumbdown' 'one' 'thumbleft' 'one' 'gundown'\n",
      " 'one' 'one' 'gundown' 'thumbright' 'thumbup' 'thumbright' 'fist'\n",
      " 'thumbdown' 'thumbup' 'thumbleft' 'gunup' 'five' 'fist' 'thumbdown'\n",
      " 'five' 'thumbup' 'thumbup' 'thumbright' 'thumbright' 'gundown'\n",
      " 'thumbdown' 'one' 'gundown' 'one' 'thumbdown' 'thumbleft' 'thumbleft'\n",
      " 'fist' 'gunup' 'fist' 'fist' 'thumbup' 'five' 'fist' 'thumbleft' 'one'\n",
      " 'thumbdown' 'five' 'gunup' 'thumbright' 'gundown' 'fist' 'thumbleft'\n",
      " 'thumbleft' 'thumbdown' 'gundown' 'thumbleft' 'gunup' 'thumbright'\n",
      " 'thumbdown' 'gundown' 'gundown' 'thumbright' 'thumbup' 'thumbleft'\n",
      " 'gundown' 'thumbdown' 'thumbdown' 'thumbdown' 'thumbleft' 'five' 'fist'\n",
      " 'thumbright' 'gundown' 'thumbright' 'five' 'gundown' 'thumbleft'\n",
      " 'thumbdown' 'fist' 'thumbdown' 'thumbleft' 'thumbright' 'thumbup' 'five'\n",
      " 'thumbdown' 'five' 'gundown' 'thumbup' 'thumbup' 'thumbright' 'one'\n",
      " 'five' 'thumbdown' 'gunup' 'thumbup' 'gundown' 'gunup' 'one' 'thumbright'\n",
      " 'thumbup' 'thumbright' 'gunup' 'gundown' 'one' 'gunup' 'gundown'\n",
      " 'thumbup' 'thumbup' 'thumbup' 'fist' 'thumbdown' 'fist' 'thumbdown'\n",
      " 'thumbright' 'five' 'thumbright' 'fist' 'five' 'fist' 'gunup' 'gunup'\n",
      " 'thumbleft' 'gundown' 'thumbright' 'gundown' 'thumbleft' 'gundown'\n",
      " 'thumbup' 'fist' 'thumbdown' 'thumbleft' 'thumbdown' 'fist' 'gunup'\n",
      " 'thumbleft' 'fist' 'five' 'thumbleft' 'gundown' 'thumbup' 'one'\n",
      " 'thumbleft' 'thumbright' 'gunup' 'gundown' 'thumbdown' 'thumbleft'\n",
      " 'thumbright' 'thumbleft' 'fist' 'one' 'thumbup' 'one' 'thumbup'\n",
      " 'thumbleft' 'five' 'one' 'gunup' 'five' 'fist' 'five' 'thumbup' 'fist'\n",
      " 'five' 'gundown' 'thumbright' 'gunup' 'fist' 'one' 'thumbdown' 'one'\n",
      " 'thumbright' 'thumbright' 'thumbleft' 'five' 'one' 'one' 'thumbright'\n",
      " 'thumbright' 'thumbup' 'one' 'thumbdown' 'one' 'one' 'one' 'fist'\n",
      " 'thumbdown' 'thumbright' 'thumbleft' 'thumbright' 'fist' 'gunup'\n",
      " 'thumbleft' 'one' 'thumbup' 'thumbup' 'gunup' 'one' 'five' 'thumbdown'\n",
      " 'thumbleft' 'thumbdown' 'fist' 'thumbleft' 'five' 'fist' 'one' 'gunup'\n",
      " 'fist' 'fist' 'thumbright' 'thumbright' 'thumbup' 'gundown' 'gunup'\n",
      " 'fist' 'gunup' 'thumbdown' 'thumbright' 'one' 'thumbleft' 'thumbdown'\n",
      " 'one' 'five' 'fist' 'fist' 'gundown' 'thumbdown' 'one' 'five'\n",
      " 'thumbright' 'thumbup' 'one' 'thumbdown' 'thumbup' 'gunup' 'thumbup'\n",
      " 'thumbdown' 'fist' 'one' 'thumbleft' 'gunup' 'thumbup' 'five'\n",
      " 'thumbright' 'one' 'thumbup' 'thumbup' 'thumbup' 'five' 'gundown'\n",
      " 'thumbdown' 'gunup' 'thumbleft' 'thumbleft' 'thumbright' 'thumbright'\n",
      " 'five' 'one' 'five' 'thumbdown' 'thumbup' 'fist' 'thumbup' 'gundown'\n",
      " 'gundown' 'one' 'gundown' 'gundown' 'five' 'thumbdown' 'gunup' 'five'\n",
      " 'thumbright' 'gunup' 'five' 'one' 'thumbup' 'thumbright' 'fist' 'gunup'\n",
      " 'gundown' 'thumbup' 'gundown' 'gundown' 'thumbright' 'thumbleft'\n",
      " 'thumbleft' 'thumbleft' 'gundown' 'thumbdown' 'one' 'fist' 'thumbleft'\n",
      " 'fist' 'thumbdown' 'one' 'gunup' 'one' 'thumbright' 'thumbup' 'one'\n",
      " 'fist' 'fist' 'thumbright' 'thumbdown' 'gunup' 'thumbdown' 'fist'\n",
      " 'gundown' 'five' 'one' 'five' 'thumbright' 'one' 'gundown' 'gunup'\n",
      " 'gunup' 'thumbright' 'thumbright' 'thumbright' 'five' 'five' 'five'\n",
      " 'gundown' 'five' 'gunup' 'thumbright' 'five' 'gundown' 'gundown'\n",
      " 'thumbdown' 'thumbdown' 'fist' 'thumbup' 'one' 'gundown' 'one' 'five'\n",
      " 'fist' 'gunup' 'thumbleft' 'five' 'gunup' 'gunup' 'five' 'fist' 'gunup'\n",
      " 'gundown' 'fist' 'thumbdown' 'thumbright' 'thumbleft' 'thumbleft'\n",
      " 'thumbleft' 'gunup' 'gundown' 'fist' 'thumbup' 'five' 'thumbdown'\n",
      " 'gundown' 'gundown' 'thumbleft' 'one' 'five' 'thumbleft' 'thumbdown'\n",
      " 'gunup' 'gunup' 'thumbdown' 'thumbright' 'five' 'gunup' 'gundown'\n",
      " 'thumbup' 'gundown' 'gundown' 'thumbdown' 'gunup' 'thumbright'\n",
      " 'thumbleft' 'thumbleft' 'thumbup' 'five' 'fist' 'gundown' 'five'\n",
      " 'thumbleft' 'one' 'one' 'thumbdown' 'thumbright' 'gunup' 'thumbright'\n",
      " 'thumbup' 'thumbright' 'gundown' 'thumbleft' 'gundown' 'thumbup' 'fist'\n",
      " 'thumbleft' 'one' 'thumbright' 'fist' 'gunup' 'five' 'gunup' 'thumbright'\n",
      " 'thumbup' 'five' 'one' 'thumbup' 'gunup' 'gunup' 'fist' 'thumbright'\n",
      " 'gunup' 'fist' 'gundown' 'gundown' 'five' 'thumbdown' 'one' 'thumbleft'\n",
      " 'gunup' 'gundown' 'one' 'fist' 'fist' 'thumbup' 'gunup' 'fist' 'gundown'\n",
      " 'thumbdown' 'gunup' 'gunup' 'thumbup' 'thumbup' 'gunup' 'five'\n",
      " 'thumbleft' 'fist' 'gundown' 'one' 'gunup' 'gundown' 'thumbright' 'one'\n",
      " 'one' 'thumbleft' 'gunup' 'five' 'thumbleft' 'thumbdown' 'thumbdown'\n",
      " 'fist' 'thumbup' 'thumbdown' 'gunup' 'thumbright' 'thumbleft' 'gundown'\n",
      " 'thumbleft' 'thumbup' 'five' 'five']\n",
      "[0 6 7 3 8 1 4 5 6 5 7 7 3 1 2 5 6 8 6 7 8 8 5 2 1 0 1 6 7 3 8 1 1 2 5 4 8\n",
      " 0 5 7 2 0 1 4 8 1 4 0 4 3 8 5 3 4 3 0 0 1 8 6 4 5 6 0 8 3 1 6 7 8 4 2 5 8\n",
      " 6 5 5 4 6 4 2 4 4 2 7 8 7 0 5 8 6 3 1 0 5 1 8 8 7 7 2 5 4 2 4 5 6 6 0 3 0\n",
      " 0 8 1 0 6 4 5 1 3 7 2 0 6 6 5 2 6 3 7 5 2 2 7 8 6 2 5 5 5 6 1 0 7 2 7 1 2\n",
      " 6 5 0 5 6 7 8 1 5 1 2 8 8 7 4 1 5 3 8 2 3 4 7 8 7 3 2 4 3 2 8 8 8 0 5 0 5\n",
      " 7 1 7 0 1 0 3 3 6 2 7 2 6 2 8 0 5 6 5 0 3 6 0 1 6 2 8 4 6 7 3 2 5 6 7 6 0\n",
      " 4 8 4 8 6 1 4 3 1 0 1 8 0 1 2 7 3 0 4 5 4 7 7 6 1 4 4 7 7 8 4 5 4 4 4 0 5\n",
      " 7 6 7 0 3 6 4 8 8 3 4 1 5 6 5 0 6 1 0 4 3 0 0 7 7 8 2 3 0 3 5 7 4 6 5 4 1\n",
      " 0 0 2 5 4 1 7 8 4 5 8 3 8 5 0 4 6 3 8 1 7 4 8 8 8 1 2 5 3 6 6 7 7 1 4 1 5\n",
      " 8 0 8 2 2 4 2 2 1 5 3 1 7 3 1 4 8 7 0 3 2 8 2 2 7 6 6 6 2 5 4 0 6 0 5 4 3\n",
      " 4 7 8 4 0 0 7 5 3 5 0 2 1 4 1 7 4 2 3 3 7 7 7 1 1 1 2 1 3 7 1 2 2 5 5 0 8\n",
      " 4 2 4 1 0 3 6 1 3 3 1 0 3 2 0 5 7 6 6 6 3 2 0 8 1 5 2 2 6 4 1 6 5 3 3 5 7\n",
      " 1 3 2 8 2 2 5 3 7 6 6 8 1 0 2 1 6 4 4 5 7 3 7 8 7 2 6 2 8 0 6 4 7 0 3 1 3\n",
      " 7 8 1 4 8 3 3 0 7 3 0 2 2 1 5 4 6 3 2 4 0 0 8 3 0 2 5 3 3 8 8 3 1 6 0 2 4\n",
      " 3 2 7 4 4 6 3 1 6 5 5 0 8 5 3 7 6 2 6 8 1 1]\n",
      "[[1. 0. 0. ... 0. 0. 0.]\n",
      " [0. 0. 0. ... 1. 0. 0.]\n",
      " [0. 0. 0. ... 0. 1. 0.]\n",
      " ...\n",
      " [0. 0. 0. ... 0. 0. 1.]\n",
      " [0. 1. 0. ... 0. 0. 0.]\n",
      " [0. 1. 0. ... 0. 0. 0.]]\n",
      "['fist']\n"
     ]
    }
   ],
   "source": [
    "#对labels进行处理，onehotencoder\n",
    "from numpy import array\n",
    "from numpy import argmax\n",
    "from sklearn.preprocessing import LabelEncoder\n",
    "from sklearn.preprocessing import OneHotEncoder\n",
    "# define example\n",
    "values = array(labels)\n",
    "print(values)\n",
    "# integer encode\n",
    "label_encoder = LabelEncoder()\n",
    "integer_encoded = label_encoder.fit_transform(values)\n",
    "print(integer_encoded)\n",
    "# binary encode\n",
    "onehot_encoder = OneHotEncoder(sparse=False)\n",
    "integer_encoded = integer_encoded.reshape(len(integer_encoded), 1)\n",
    "onehot_encoded = onehot_encoder.fit_transform(integer_encoded)\n",
    "print(onehot_encoded)\n",
    "# invert first example\n",
    "inverted = label_encoder.inverse_transform([argmax(onehot_encoded[0, :])])\n",
    "print(inverted)"
   ]
  },
  {
   "cell_type": "code",
   "execution_count": 9,
   "metadata": {
    "executionInfo": {
     "elapsed": 2151,
     "status": "ok",
     "timestamp": 1634916890972,
     "user": {
      "displayName": "mao yueyue",
      "photoUrl": "https://lh3.googleusercontent.com/a/default-user=s64",
      "userId": "11996306090384496990"
     },
     "user_tz": -480
    },
    "id": "lXwtcYHKVHmE"
   },
   "outputs": [],
   "source": [
    "#for load weights\n",
    "# optmz = SGD(lr=1e-4,\n",
    "#       momentum=0.9,\n",
    "#       decay=1e-4/25)\n",
    "base = ResNet50(weights=None,\n",
    "include_top=False,\n",
    "input_tensor=Input(shape=(224, 224, 3)))\n",
    "\n",
    "def createModel():\n",
    "  h   = base.output\n",
    "  h   = AveragePooling2D(pool_size=(5, 5))(h)\n",
    "  h   = Flatten(name=\"flatten\")(h)\n",
    "  h   = Dense(128, activation=\"relu\")(h)\n",
    "  h   = Dropout(0.5)(h)\n",
    "  h   = Dense(14, activation=\"softmax\")(h)\n",
    "  model = Model(inputs=base.input, outputs=h)\n",
    "  for layer in base.layers:\n",
    "    layer.trainable     = False\n",
    "  model.compile(loss=\"categorical_crossentropy\",optimizer='adam',metrics=[\"accuracy\"])\n",
    "  return model\n",
    "model = createModel()\n"
   ]
  },
  {
   "cell_type": "code",
   "execution_count": 10,
   "metadata": {
    "executionInfo": {
     "elapsed": 2355,
     "status": "ok",
     "timestamp": 1634916896683,
     "user": {
      "displayName": "mao yueyue",
      "photoUrl": "https://lh3.googleusercontent.com/a/default-user=s64",
      "userId": "11996306090384496990"
     },
     "user_tz": -480
    },
    "id": "1IcYaB_oLQju"
   },
   "outputs": [],
   "source": [
    "w = model.load_weights(\"/content/gdrive/MyDrive/sensing_project/model/sensing2.hdf5\")\n",
    "\n",
    "new_model = Model(inputs=model.input, outputs=model.get_layer('flatten').output)"
   ]
  },
  {
   "cell_type": "code",
   "execution_count": 12,
   "metadata": {
    "executionInfo": {
     "elapsed": 614,
     "status": "ok",
     "timestamp": 1634916905296,
     "user": {
      "displayName": "mao yueyue",
      "photoUrl": "https://lh3.googleusercontent.com/a/default-user=s64",
      "userId": "11996306090384496990"
     },
     "user_tz": -480
    },
    "id": "R3lFTuCzq-zA"
   },
   "outputs": [],
   "source": [
    "#data split\n",
    "(trdat,testdat,trlabel,testlabel)= train_test_split(np.array(images),np.array(onehot_encoded),test_size=0.25,stratify=np.array(onehot_encoded),random_state=0)\n"
   ]
  },
  {
   "cell_type": "code",
   "execution_count": 11,
   "metadata": {
    "executionInfo": {
     "elapsed": 418,
     "status": "ok",
     "timestamp": 1634916898643,
     "user": {
      "displayName": "mao yueyue",
      "photoUrl": "https://lh3.googleusercontent.com/a/default-user=s64",
      "userId": "11996306090384496990"
     },
     "user_tz": -480
    },
    "id": "cMkYMEEaoi_1"
   },
   "outputs": [],
   "source": [
    "# optmz = SGD(lr=1e-4,\n",
    "#       momentum=0.9,\n",
    "#       decay=1e-4/25)\n",
    "# base = ResNet50(weights=w,\n",
    "# include_top=False,\n",
    "# input_tensor=Input(shape=(224, 224, 3)))\n",
    "\n",
    "def createModel1():\n",
    "  h   = new_model.output\n",
    "  # h   = AveragePooling2D(pool_size=(5, 5))(h)\n",
    "  # h   = Flatten(name=\"flatten\")(h)\n",
    "  # # h   = Dense(512, activation=\"relu\")(h)\n",
    "  h   = Dense(128, activation=\"relu\")(h)\n",
    "  h   = Dropout(0.5)(h)\n",
    "  h   = Dense(9, activation=\"softmax\")(h)\n",
    "  model = Model(inputs=new_model.input, outputs=h)\n",
    "  for layer in new_model.layers:\n",
    "    layer.trainable     = False\n",
    "  model.compile(loss=\"categorical_crossentropy\",optimizer='adam',metrics=[\"accuracy\"])\n",
    "  return model\n",
    "model1 = createModel1()\n",
    "# model1.summary()\n",
    "modelgo1 = createModel1()#for testing\n"
   ]
  },
  {
   "cell_type": "code",
   "execution_count": 13,
   "metadata": {
    "executionInfo": {
     "elapsed": 342,
     "status": "ok",
     "timestamp": 1634916909602,
     "user": {
      "displayName": "mao yueyue",
      "photoUrl": "https://lh3.googleusercontent.com/a/default-user=s64",
      "userId": "11996306090384496990"
     },
     "user_tz": -480
    },
    "id": "Z-jVY9Fv0-im"
   },
   "outputs": [],
   "source": [
    "modelname = 'sensingbased1'\n",
    "folderpath      = '/content/gdrive/My Drive/sensing_project/model/'\n",
    "filepath        = folderpath + modelname + \".hdf5\"\n",
    "checkpoint      = ModelCheckpoint(filepath, \n",
    "                                  monitor='val_loss', \n",
    "                                  verbose=0, \n",
    "                                  save_best_only=True, \n",
    "                                  mode='min')\n",
    "csv_logger      = CSVLogger(folderpath+modelname +'.csv')                       # Step 2\n",
    "callbacks_list  = [checkpoint,csv_logger]"
   ]
  },
  {
   "cell_type": "code",
   "execution_count": 62,
   "metadata": {
    "colab": {
     "base_uri": "https://localhost:8080/",
     "height": 281
    },
    "executionInfo": {
     "elapsed": 436,
     "status": "ok",
     "timestamp": 1634721533851,
     "user": {
      "displayName": "mao yueyue",
      "photoUrl": "https://lh3.googleusercontent.com/a/default-user=s64",
      "userId": "11996306090384496990"
     },
     "user_tz": -480
    },
    "id": "I9-gjv7s_AKh",
    "outputId": "d5f69dcc-1b93-48cf-b979-fa65430837e7"
   },
   "outputs": [
    {
     "data": {
      "image/png": "[encoded data removed]",
      "text/plain": [
       "<Figure size 432x288 with 2 Axes>"
      ]
     },
     "metadata": {
      "needs_background": "light"
     },
     "output_type": "display_data"
    }
   ],
   "source": [
    "import pandas as pd\n",
    "records     = pd.read_csv(folderpath+modelname +'.csv')\n",
    "plt.figure()\n",
    "plt.subplot(211)\n",
    "plt.plot(records['val_loss'], label=\"validation\")\n",
    "plt.plot(records['loss'],label=\"training\")\n",
    "plt.yticks([0.00,0.50,1.00,1.50])\n",
    "plt.title('Loss value',fontsize=12)\n",
    "\n",
    "ax          = plt.gca()\n",
    "ax.set_xticklabels([])\n",
    "\n",
    "plt.subplot(212)\n",
    "plt.plot(records['val_accuracy'],label=\"validation\")\n",
    "plt.plot(records['accuracy'],label=\"training\")\n",
    "plt.yticks([0.5,0.6,0.7,0.8])\n",
    "plt.title('Accuracy',fontsize=12)\n",
    "ax.legend()\n",
    "plt.show()"
   ]
  },
  {
   "cell_type": "code",
   "execution_count": 14,
   "metadata": {
    "colab": {
     "base_uri": "https://localhost:8080/"
    },
    "executionInfo": {
     "elapsed": 4405845,
     "status": "ok",
     "timestamp": 1634921325110,
     "user": {
      "displayName": "mao yueyue",
      "photoUrl": "https://lh3.googleusercontent.com/a/default-user=s64",
      "userId": "11996306090384496990"
     },
     "user_tz": -480
    },
    "id": "EYVKGI3d1rCi",
    "outputId": "476ee2e2-a418-4b42-f1e1-9790d967a246"
   },
   "outputs": [
    {
     "name": "stdout",
     "output_type": "stream",
     "text": [
      "Epoch 1/50\n",
      "81/81 [==============================] - 90s 1s/step - loss: 2.3133 - accuracy: 0.2889 - val_loss: 1.5406 - val_accuracy: 0.4963\n"
     ]
    },
    {
     "name": "stderr",
     "output_type": "stream",
     "text": [
      "/usr/local/lib/python3.7/dist-packages/keras/utils/generic_utils.py:497: CustomMaskWarning: Custom mask layers require a config and must override get_config. When loading, the custom mask layer must be passed to the custom_objects argument.\n",
      "  category=CustomMaskWarning)\n"
     ]
    },
    {
     "name": "stdout",
     "output_type": "stream",
     "text": [
      "Epoch 2/50\n",
      "81/81 [==============================] - 87s 1s/step - loss: 1.4874 - accuracy: 0.4864 - val_loss: 1.2418 - val_accuracy: 0.5259\n",
      "Epoch 3/50\n",
      "81/81 [==============================] - 86s 1s/step - loss: 1.1904 - accuracy: 0.5753 - val_loss: 0.9370 - val_accuracy: 0.6667\n",
      "Epoch 4/50\n",
      "81/81 [==============================] - 86s 1s/step - loss: 0.9416 - accuracy: 0.6617 - val_loss: 0.8613 - val_accuracy: 0.6889\n",
      "Epoch 5/50\n",
      "81/81 [==============================] - 86s 1s/step - loss: 0.8467 - accuracy: 0.6815 - val_loss: 0.8162 - val_accuracy: 0.7037\n",
      "Epoch 6/50\n",
      "81/81 [==============================] - 86s 1s/step - loss: 0.7209 - accuracy: 0.7407 - val_loss: 0.7353 - val_accuracy: 0.7333\n",
      "Epoch 7/50\n",
      "81/81 [==============================] - 89s 1s/step - loss: 0.5983 - accuracy: 0.7704 - val_loss: 0.7906 - val_accuracy: 0.6741\n",
      "Epoch 8/50\n",
      "81/81 [==============================] - 86s 1s/step - loss: 0.6232 - accuracy: 0.7802 - val_loss: 0.7977 - val_accuracy: 0.7037\n",
      "Epoch 9/50\n",
      "81/81 [==============================] - 86s 1s/step - loss: 0.4390 - accuracy: 0.8444 - val_loss: 0.6442 - val_accuracy: 0.7333\n",
      "Epoch 10/50\n",
      "81/81 [==============================] - 87s 1s/step - loss: 0.4563 - accuracy: 0.8321 - val_loss: 0.6459 - val_accuracy: 0.7185\n",
      "Epoch 11/50\n",
      "81/81 [==============================] - 86s 1s/step - loss: 0.3634 - accuracy: 0.8667 - val_loss: 0.6670 - val_accuracy: 0.7407\n",
      "Epoch 12/50\n",
      "81/81 [==============================] - 87s 1s/step - loss: 0.3695 - accuracy: 0.8593 - val_loss: 0.6708 - val_accuracy: 0.7556\n",
      "Epoch 13/50\n",
      "81/81 [==============================] - 87s 1s/step - loss: 0.3342 - accuracy: 0.8815 - val_loss: 0.6411 - val_accuracy: 0.6889\n",
      "Epoch 14/50\n",
      "81/81 [==============================] - 87s 1s/step - loss: 0.3244 - accuracy: 0.8914 - val_loss: 0.7704 - val_accuracy: 0.7259\n",
      "Epoch 15/50\n",
      "81/81 [==============================] - 87s 1s/step - loss: 0.3201 - accuracy: 0.8914 - val_loss: 0.5941 - val_accuracy: 0.7630\n",
      "Epoch 16/50\n",
      "81/81 [==============================] - 87s 1s/step - loss: 0.2739 - accuracy: 0.8963 - val_loss: 0.6202 - val_accuracy: 0.7259\n",
      "Epoch 17/50\n",
      "81/81 [==============================] - 87s 1s/step - loss: 0.2748 - accuracy: 0.8963 - val_loss: 0.6035 - val_accuracy: 0.7778\n",
      "Epoch 18/50\n",
      "81/81 [==============================] - 87s 1s/step - loss: 0.2404 - accuracy: 0.9111 - val_loss: 0.6725 - val_accuracy: 0.7704\n",
      "Epoch 19/50\n",
      "81/81 [==============================] - 87s 1s/step - loss: 0.2808 - accuracy: 0.9037 - val_loss: 0.6505 - val_accuracy: 0.7481\n",
      "Epoch 20/50\n",
      "81/81 [==============================] - 87s 1s/step - loss: 0.2105 - accuracy: 0.9259 - val_loss: 0.6816 - val_accuracy: 0.6963\n",
      "Epoch 21/50\n",
      "81/81 [==============================] - 87s 1s/step - loss: 0.2219 - accuracy: 0.9235 - val_loss: 0.6221 - val_accuracy: 0.7556\n",
      "Epoch 22/50\n",
      "81/81 [==============================] - 86s 1s/step - loss: 0.2106 - accuracy: 0.9160 - val_loss: 0.8247 - val_accuracy: 0.7185\n",
      "Epoch 23/50\n",
      "81/81 [==============================] - 87s 1s/step - loss: 0.2395 - accuracy: 0.9210 - val_loss: 0.6453 - val_accuracy: 0.7333\n",
      "Epoch 24/50\n",
      "81/81 [==============================] - 87s 1s/step - loss: 0.1932 - accuracy: 0.9309 - val_loss: 0.7107 - val_accuracy: 0.7259\n",
      "Epoch 25/50\n",
      "81/81 [==============================] - 87s 1s/step - loss: 0.2010 - accuracy: 0.9185 - val_loss: 0.7198 - val_accuracy: 0.7259\n",
      "Epoch 26/50\n",
      "81/81 [==============================] - 87s 1s/step - loss: 0.1475 - accuracy: 0.9481 - val_loss: 0.6899 - val_accuracy: 0.7852\n",
      "Epoch 27/50\n",
      "81/81 [==============================] - 86s 1s/step - loss: 0.1633 - accuracy: 0.9506 - val_loss: 0.6430 - val_accuracy: 0.7926\n",
      "Epoch 28/50\n",
      "81/81 [==============================] - 87s 1s/step - loss: 0.1579 - accuracy: 0.9407 - val_loss: 0.6800 - val_accuracy: 0.7407\n",
      "Epoch 29/50\n",
      "81/81 [==============================] - 86s 1s/step - loss: 0.1578 - accuracy: 0.9407 - val_loss: 0.6968 - val_accuracy: 0.7556\n",
      "Epoch 30/50\n",
      "81/81 [==============================] - 87s 1s/step - loss: 0.2013 - accuracy: 0.9210 - val_loss: 0.7399 - val_accuracy: 0.7704\n",
      "Epoch 31/50\n",
      "81/81 [==============================] - 87s 1s/step - loss: 0.2142 - accuracy: 0.9235 - val_loss: 0.6790 - val_accuracy: 0.7630\n",
      "Epoch 32/50\n",
      "81/81 [==============================] - 87s 1s/step - loss: 0.1608 - accuracy: 0.9531 - val_loss: 0.7453 - val_accuracy: 0.7259\n",
      "Epoch 33/50\n",
      "81/81 [==============================] - 86s 1s/step - loss: 0.1177 - accuracy: 0.9630 - val_loss: 0.9108 - val_accuracy: 0.7333\n",
      "Epoch 34/50\n",
      "81/81 [==============================] - 87s 1s/step - loss: 0.1371 - accuracy: 0.9556 - val_loss: 0.7253 - val_accuracy: 0.7630\n",
      "Epoch 35/50\n",
      "81/81 [==============================] - 87s 1s/step - loss: 0.1290 - accuracy: 0.9556 - val_loss: 0.7117 - val_accuracy: 0.7259\n",
      "Epoch 36/50\n",
      "81/81 [==============================] - 86s 1s/step - loss: 0.1699 - accuracy: 0.9481 - val_loss: 0.7476 - val_accuracy: 0.7926\n",
      "Epoch 37/50\n",
      "81/81 [==============================] - 86s 1s/step - loss: 0.1342 - accuracy: 0.9506 - val_loss: 0.7328 - val_accuracy: 0.7704\n",
      "Epoch 38/50\n",
      "81/81 [==============================] - 86s 1s/step - loss: 0.1619 - accuracy: 0.9506 - val_loss: 0.8314 - val_accuracy: 0.7333\n",
      "Epoch 39/50\n",
      "81/81 [==============================] - 86s 1s/step - loss: 0.1255 - accuracy: 0.9556 - val_loss: 0.7475 - val_accuracy: 0.8148\n",
      "Epoch 40/50\n",
      "81/81 [==============================] - 86s 1s/step - loss: 0.1467 - accuracy: 0.9481 - val_loss: 0.7882 - val_accuracy: 0.7111\n",
      "Epoch 41/50\n",
      "81/81 [==============================] - 86s 1s/step - loss: 0.1608 - accuracy: 0.9407 - val_loss: 0.6761 - val_accuracy: 0.8074\n",
      "Epoch 42/50\n",
      "81/81 [==============================] - 86s 1s/step - loss: 0.2051 - accuracy: 0.9160 - val_loss: 0.7541 - val_accuracy: 0.7407\n",
      "Epoch 43/50\n",
      "81/81 [==============================] - 86s 1s/step - loss: 0.1785 - accuracy: 0.9284 - val_loss: 0.8432 - val_accuracy: 0.7333\n",
      "Epoch 44/50\n",
      "81/81 [==============================] - 86s 1s/step - loss: 0.1660 - accuracy: 0.9358 - val_loss: 0.6890 - val_accuracy: 0.7852\n",
      "Epoch 45/50\n",
      "81/81 [==============================] - 86s 1s/step - loss: 0.1942 - accuracy: 0.9407 - val_loss: 0.7304 - val_accuracy: 0.7556\n",
      "Epoch 46/50\n",
      "81/81 [==============================] - 86s 1s/step - loss: 0.1778 - accuracy: 0.9333 - val_loss: 0.6607 - val_accuracy: 0.7630\n",
      "Epoch 47/50\n",
      "81/81 [==============================] - 86s 1s/step - loss: 0.1580 - accuracy: 0.9358 - val_loss: 0.7568 - val_accuracy: 0.7630\n",
      "Epoch 48/50\n",
      "81/81 [==============================] - 86s 1s/step - loss: 0.1478 - accuracy: 0.9605 - val_loss: 0.8055 - val_accuracy: 0.7852\n",
      "Epoch 49/50\n",
      "81/81 [==============================] - 86s 1s/step - loss: 0.1024 - accuracy: 0.9679 - val_loss: 0.6850 - val_accuracy: 0.8148\n",
      "Epoch 50/50\n",
      "81/81 [==============================] - 86s 1s/step - loss: 0.1083 - accuracy: 0.9630 - val_loss: 0.7144 - val_accuracy: 0.7778\n"
     ]
    }
   ],
   "source": [
    "mtest =model1.fit(trdat,trlabel, validation_data=(testdat,testlabel), batch_size=5,epochs=50, verbose=1, shuffle=True,callbacks=callbacks_list)"
   ]
  },
  {
   "cell_type": "code",
   "execution_count": 109,
   "metadata": {
    "colab": {
     "base_uri": "https://localhost:8080/"
    },
    "executionInfo": {
     "elapsed": 2460,
     "status": "ok",
     "timestamp": 1634731918191,
     "user": {
      "displayName": "mao yueyue",
      "photoUrl": "https://lh3.googleusercontent.com/a/default-user=s64",
      "userId": "11996306090384496990"
     },
     "user_tz": -480
    },
    "id": "w98Ch6u4VT96",
    "outputId": "655f59c9-c75c-41c6-b782-049e4a1895fb"
   },
   "outputs": [
    {
     "name": "stdout",
     "output_type": "stream",
     "text": [
      "[[0.00701988 0.00310049 0.0079049  0.03888008 0.6264421  0.0095545\n",
      "  0.01421032 0.00929854 0.28358927]]\n",
      "['one']\n"
     ]
    }
   ],
   "source": [
    "modelgo.load_weights(filepath)\n",
    "modelgo.compile(loss='categorical_crossentropy', \n",
    "                optimizer=optmz, \n",
    "                metrics=['accuracy'])\n",
    "\n",
    "testimg = cv2.imread(\"/content/gdrive/MyDrive/sensing_project/dataset/test_data/6.jpg\")\n",
    "testimg = preprocess(testimg)\n",
    "img = testimg.reshape(1,224,224,3)\n",
    "\n",
    "# predicts = np.argmax(modelgo.predict(img),axis=1)\n",
    "predicts = modelgo.predict(img)\n",
    "print(predicts)\n",
    "inverted = label_encoder.inverse_transform([argmax(predicts)])\n",
    "print(inverted)\n"
   ]
  },
  {
   "cell_type": "code",
   "execution_count": null,
   "metadata": {
    "id": "2xZUPUChTyJP"
   },
   "outputs": [],
   "source": [
    "def takephoto():"
   ]
  }
 ],
 "metadata": {
  "colab": {
   "authorship_tag": "ABX9TyPirnFIvMzsPF5ksMix/S5m",
   "collapsed_sections": [],
   "name": "sensing_model3.ipynb",
   "provenance": []
  },
  "kernelspec": {
   "display_name": "Python 3 (ipykernel)",
   "language": "python",
   "name": "python3"
  },
  "language_info": {
   "codemirror_mode": {
    "name": "ipython",
    "version": 3
   },
   "file_extension": ".py",
   "mimetype": "text/x-python",
   "name": "python",
   "nbconvert_exporter": "python",
   "pygments_lexer": "ipython3",
   "version": "3.8.8"
  }
 },
 "nbformat": 4,
 "nbformat_minor": 1
}
